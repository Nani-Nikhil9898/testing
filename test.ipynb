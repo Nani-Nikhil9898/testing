{
 "cells": [
  {
   "cell_type": "code",
   "execution_count": null,
   "id": "170afdd5",
   "metadata": {},
   "outputs": [],
   "source": [
    "\"Hi\" + \" Hello\""
   ]
  },
  {
   "cell_type": "code",
   "execution_count": null,
   "id": "872cd258",
   "metadata": {},
   "outputs": [],
   "source": []
  }
 ],
 "metadata": {
  "kernelspec": {
   "display_name": "Python 3",
   "language": "python",
   "name": "python3"
  },
  "language_info": {
   "name": "python",
   "version": "3.13.3"
  }
 },
 "nbformat": 4,
 "nbformat_minor": 5
}
